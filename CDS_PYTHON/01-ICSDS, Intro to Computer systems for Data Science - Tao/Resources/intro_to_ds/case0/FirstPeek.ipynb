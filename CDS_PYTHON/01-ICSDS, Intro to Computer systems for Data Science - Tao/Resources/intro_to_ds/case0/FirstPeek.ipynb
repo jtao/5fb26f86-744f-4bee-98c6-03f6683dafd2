{
  "cells": [
    {
      "cell_type": "markdown",
      "metadata": {
        "id": "view-in-github",
        "colab_type": "text"
      },
      "source": [
        "<a href=\"https://colab.research.google.com/github/jtao/5fb26f86-744f-4bee-98c6-03f6683dafd2/blob/main/CDS_PYTHON/01-ICSDS%2C%20Intro%20to%20Computer%20systems%20for%20Data%20Science%20-%20Tao/Resources/intro_to_ds/case0/FirstPeek.ipynb\" target=\"_parent\"><img src=\"https://colab.research.google.com/assets/colab-badge.svg\" alt=\"Open In Colab\"/></a>"
      ]
    },
    {
      "cell_type": "markdown",
      "metadata": {
        "id": "1ito8JduR8Qu"
      },
      "source": [
        "# A sample data science project with the diabetes dataset\n",
        "\n",
        "[Jian Tao](https://orcid.org/0000-0003-4228-6089), Texas A&M University\n",
        "\n",
        "May 1, 2021"
      ]
    },
    {
      "cell_type": "markdown",
      "metadata": {
        "id": "vW5mipUUR8Qw"
      },
      "source": [
        "### The goal of this project is to build a model to predict disease progression.\n",
        "\n",
        "Given a dataset, we will\n",
        "1. explore the diabetes data set,\n",
        "2. build a multilinear model with top 3 features that are closely correlated with the target,\n",
        "3. create a Deep Neural Network with 3 hidden layers, and finally,\n",
        "4. compare the models and discuss the results."
      ]
    },
    {
      "cell_type": "code",
      "execution_count": null,
      "metadata": {
        "id": "fGhqD-RnR8Qw"
      },
      "outputs": [],
      "source": [
        "import pandas as pd\n",
        "import numpy as np\n",
        "import matplotlib.pyplot as plt\n",
        "from sklearn import datasets\n",
        "import seaborn as sns\n",
        "import os"
      ]
    },
    {
      "cell_type": "markdown",
      "metadata": {
        "id": "mfzgfO-IR8Qx"
      },
      "source": [
        "### 1. First of all, load and explore the data"
      ]
    },
    {
      "cell_type": "code",
      "execution_count": null,
      "metadata": {
        "id": "Z7wbkmeVR8Qx"
      },
      "outputs": [],
      "source": [
        "# we will load the diabetes data set distributed with sklearn.\n",
        "diabetes = datasets.load_diabetes()\n",
        "\n",
        "# load data into a Pandas DataFrame when you need to do EDA.\n",
        "df = pd.DataFrame(diabetes.data, columns=diabetes.feature_names)\n",
        "df[\"target\"] = diabetes.target"
      ]
    },
    {
      "cell_type": "code",
      "execution_count": null,
      "metadata": {
        "id": "Rvkzh5FxR8Qx"
      },
      "outputs": [],
      "source": [
        "df = pd.DataFrame(diabetes.data, columns=diabetes.feature_names)\n",
        "df[\"target\"] = diabetes.target # only for plot the first figure."
      ]
    },
    {
      "cell_type": "code",
      "execution_count": null,
      "metadata": {
        "id": "sy9l2gPrR8Qx"
      },
      "outputs": [],
      "source": [
        "print(diabetes.DESCR)"
      ]
    },
    {
      "cell_type": "code",
      "execution_count": null,
      "metadata": {
        "id": "6PzaSZDIR8Qx"
      },
      "outputs": [],
      "source": [
        "df.describe().T"
      ]
    },
    {
      "cell_type": "code",
      "execution_count": null,
      "metadata": {
        "id": "Uza6htcmR8Qx"
      },
      "outputs": [],
      "source": [
        "df.info()"
      ]
    },
    {
      "cell_type": "code",
      "execution_count": null,
      "metadata": {
        "id": "2_RqvgYyR8Qy"
      },
      "outputs": [],
      "source": [
        "df"
      ]
    },
    {
      "cell_type": "code",
      "execution_count": null,
      "metadata": {
        "id": "cd63yf6VR8Qy"
      },
      "outputs": [],
      "source": [
        "plt.figure(figsize=(15,10))\n",
        "sns.heatmap(df.corr(), annot=True);"
      ]
    },
    {
      "cell_type": "code",
      "execution_count": null,
      "metadata": {
        "id": "w_Lvk9gMR8Qy"
      },
      "outputs": [],
      "source": [
        "g = sns.pairplot(df[[\"target\", \"bmi\", \"bp\", \"s4\", \"s5\"]])\n",
        "g.map_lower(sns.kdeplot, levels=4, color=\".2\")"
      ]
    },
    {
      "cell_type": "markdown",
      "metadata": {
        "id": "1ZR963eOR8Qy"
      },
      "source": [
        "### 2. Build a multilinear regression model with top 3 correlated features\n",
        "Top 3 features that are correlated with the target are bmi (0.59), s5 (0.57), and bp (0.44)"
      ]
    },
    {
      "cell_type": "code",
      "execution_count": null,
      "metadata": {
        "id": "8fhKD-xLR8Qy"
      },
      "outputs": [],
      "source": [
        "from sklearn.linear_model import LinearRegression\n",
        "from sklearn.metrics import mean_squared_error, r2_score\n",
        "\n",
        "X = df[['bmi',\"bp\", \"s5\"]]\n",
        "y = df[[\"target\"]]\n",
        "\n",
        "multi_reg = LinearRegression()\n",
        "multi_reg.fit(X, y)\n",
        "\n",
        "y_pred = multi_reg.predict(X)\n",
        "\n",
        "print('Coefficients:', multi_reg.coef_)\n",
        "print('MSE:', mean_squared_error(y, y_pred) )\n",
        "print('R-sq:', r2_score(y, y_pred) )"
      ]
    },
    {
      "cell_type": "code",
      "execution_count": null,
      "metadata": {
        "id": "CwwOjBMqR8Qy"
      },
      "outputs": [],
      "source": [
        "plt.scatter(y, y_pred)\n",
        "plt.plot(y, y)"
      ]
    },
    {
      "cell_type": "markdown",
      "metadata": {
        "id": "WPhop3NqR8Qz"
      },
      "source": [
        "### 3. Build a Deep Neural Network with 3 hidden Dense layers with all the features."
      ]
    },
    {
      "cell_type": "code",
      "execution_count": null,
      "metadata": {
        "id": "XuiTdceiR8Qz"
      },
      "outputs": [],
      "source": [
        "import tensorflow as tf\n",
        "from tensorflow import keras\n",
        "from tensorflow.keras import Sequential\n",
        "from tensorflow.keras.layers import Dense\n",
        "from sklearn.preprocessing import StandardScaler\n",
        "from sklearn.model_selection import train_test_split\n",
        "from sklearn import datasets"
      ]
    },
    {
      "cell_type": "code",
      "execution_count": null,
      "metadata": {
        "id": "CtZlZzfQR8Qz"
      },
      "outputs": [],
      "source": [
        "diabetes = datasets.load_diabetes()\n",
        "df = pd.DataFrame(diabetes.data, columns=diabetes.feature_names)\n",
        "df[\"target\"] = diabetes.target"
      ]
    },
    {
      "cell_type": "code",
      "execution_count": null,
      "metadata": {
        "id": "HoAGBbKNR8Qz"
      },
      "outputs": [],
      "source": [
        "X = df.drop(\"target\", axis = 1)\n",
        "y = df[\"target\"]\n",
        "X_train,X_test,y_train,y_test = train_test_split(X,y,test_size=0.3,random_state = 101)"
      ]
    },
    {
      "cell_type": "code",
      "execution_count": null,
      "metadata": {
        "id": "9zR8q-EtR8Qz"
      },
      "outputs": [],
      "source": [
        "X_train"
      ]
    },
    {
      "cell_type": "code",
      "execution_count": null,
      "metadata": {
        "id": "xyH1npY9R8Qz"
      },
      "outputs": [],
      "source": [
        "# Neural network\n",
        "model = Sequential()\n",
        "model.add(Dense(12, input_dim=10, activation=\"relu\"))\n",
        "model.add(Dense(10, activation=\"relu\"))\n",
        "model.add(Dense(1))\n",
        "\n",
        "# compile the model\n",
        "model.compile(optimizer='adam', loss='mean_squared_error')\n",
        "\n",
        "# train the model (set verbose to True to see the output)\n",
        "model.fit(X_train, y_train, validation_split=0.2, epochs=400, verbose=False)"
      ]
    },
    {
      "cell_type": "code",
      "execution_count": null,
      "metadata": {
        "id": "HZH2l7ziR8Qz"
      },
      "outputs": [],
      "source": [
        "y_pred = model.predict(X_test)"
      ]
    },
    {
      "cell_type": "code",
      "execution_count": null,
      "metadata": {
        "id": "to_CHWmFR8Qz"
      },
      "outputs": [],
      "source": [
        "from sklearn.metrics import mean_squared_error, r2_score\n",
        "\n",
        "print('MSE:', mean_squared_error(y_test, y_pred) )\n",
        "\n",
        "print('R-sq:', r2_score(y_test, y_pred) )"
      ]
    },
    {
      "cell_type": "markdown",
      "metadata": {
        "id": "aGFFScoMR8Q0"
      },
      "source": [
        "### 4. Comparing models\n",
        "1. R2 - Multi-linear: 0.48008281990946056\n",
        "2. R2 - Deep Learning: 0.4773411304310343"
      ]
    },
    {
      "cell_type": "markdown",
      "metadata": {
        "id": "80wdMVE-R8Q0"
      },
      "source": [
        "R2 score of the multi-linear method is comparable to that of the Deep Learning regressor. For the multi-linear method, we will need to manually extract the features. For this dataset, those 3 features give a relative good result, which is comparable to that from the Deep Learning method, which considers all the features."
      ]
    }
  ],
  "metadata": {
    "kernelspec": {
      "display_name": "Python 3",
      "language": "python",
      "name": "python3"
    },
    "language_info": {
      "codemirror_mode": {
        "name": "ipython",
        "version": 3
      },
      "file_extension": ".py",
      "mimetype": "text/x-python",
      "name": "python",
      "nbconvert_exporter": "python",
      "pygments_lexer": "ipython3",
      "version": "3.8.9"
    },
    "colab": {
      "provenance": [],
      "toc_visible": true,
      "include_colab_link": true
    }
  },
  "nbformat": 4,
  "nbformat_minor": 0
}